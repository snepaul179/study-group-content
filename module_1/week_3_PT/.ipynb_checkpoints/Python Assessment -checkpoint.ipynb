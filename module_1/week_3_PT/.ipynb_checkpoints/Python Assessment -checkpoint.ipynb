{
 "cells": [
  {
   "cell_type": "markdown",
   "metadata": {},
   "source": [
    "# Python Nested Structures Assessment\n",
    "\n",
    ">**Below, I've defined a dictionary with soccer player names as _keys_ for nested dictionaries containing information about each players age, nationality, and a list of teams they have played for. Use this object to answer the following questions.** \n",
    "\n",
    ">**I will push the solution to this assessment later today BUT do not pull down the solution until you've given this a solid attempt! It can be very tempting to simply look at the solution. Spend at least 60mins trying to answer the following questions and then look at the solution. Happy coding!**"
   ]
  },
  {
   "cell_type": "code",
   "execution_count": 1,
   "metadata": {
    "ExecuteTime": {
     "end_time": "2020-06-17T23:17:04.977127Z",
     "start_time": "2020-06-17T23:17:04.969494Z"
    }
   },
   "outputs": [],
   "source": [
    "players = {\n",
    "    'L. Messi': {\n",
    "\t\t'age': 31,\n",
    "\t\t'nationality': 'Argentina',\n",
    "\t\t'teams': ['Barcelona']\n",
    "\t},\n",
    "\t'Cristiano Ronaldo': {\n",
    "\t\t'age': 33,\n",
    "\t\t'nationality': 'Portugal',\n",
    "\t\t'teams': ['Juventus', 'Real Madrid', 'Manchester United']\n",
    "\t},\n",
    "\t'Neymar Jr': {\n",
    "\t\t'age': 26,\n",
    "\t\t'nationality': 'Brazil',\n",
    "\t\t'teams': ['Santos', 'Barcelona', 'Paris Saint-German']\n",
    "\t},\n",
    "\t'De Gea': {\n",
    "\t\t'age': 27,\n",
    "\t\t'nationality': 'Spain',\n",
    "\t\t'teams': ['Atletico Madrid', 'Manchester United']\n",
    "\t},\n",
    "\t'K. De Bruyne': {\n",
    "\t\t'age': 27,\n",
    "\t\t'nationality': 'Belgium',\n",
    "\t\t'teams': ['Chelsea', 'Manchester City']\n",
    "\t}\n",
    "}"
   ]
  },
  {
   "cell_type": "markdown",
   "metadata": {},
   "source": [
    "**1) Create a list of all the keys in the players dictionary. Use python's documentation on dictionaries for help if needed. Store the list of player names in a variable called player_names to use in the next question.**"
   ]
  },
  {
   "cell_type": "code",
   "execution_count": 4,
   "metadata": {
    "ExecuteTime": {
     "end_time": "2020-06-17T23:23:39.477118Z",
     "start_time": "2020-06-17T23:23:39.472562Z"
    }
   },
   "outputs": [],
   "source": [
    "# Get the list of all player names from the dictionary\n",
    "player_names = list(players.keys())\n"
   ]
  },
  {
   "cell_type": "code",
   "execution_count": 5,
   "metadata": {
    "ExecuteTime": {
     "end_time": "2020-06-17T23:23:42.549287Z",
     "start_time": "2020-06-17T23:23:42.538293Z"
    }
   },
   "outputs": [
    {
     "name": "stdout",
     "output_type": "stream",
     "text": [
      "['L. Messi', 'Cristiano Ronaldo', 'Neymar Jr', 'De Gea', 'K. De Bruyne']\n"
     ]
    }
   ],
   "source": [
    "print(player_names)"
   ]
  },
  {
   "cell_type": "markdown",
   "metadata": {},
   "source": [
    "**2) Great! Now that we have each players name, let's use that information to create a list of tuples containing each player's name along with their nationality. Store the list in a variable called player_nationalities**"
   ]
  },
  {
   "cell_type": "code",
   "execution_count": 9,
   "metadata": {
    "ExecuteTime": {
     "end_time": "2020-06-17T23:29:11.980893Z",
     "start_time": "2020-06-17T23:29:11.964899Z"
    }
   },
   "outputs": [
    {
     "data": {
      "text/plain": [
       "{'age': 31, 'nationality': 'Argentina', 'teams': ['Barcelona']}"
      ]
     },
     "execution_count": 9,
     "metadata": {},
     "output_type": "execute_result"
    }
   ],
   "source": [
    "players['L. Messi']['nationality']"
   ]
  },
  {
   "cell_type": "code",
   "execution_count": 19,
   "metadata": {
    "ExecuteTime": {
     "end_time": "2020-06-17T23:41:04.655344Z",
     "start_time": "2020-06-17T23:41:04.626055Z"
    }
   },
   "outputs": [],
   "source": [
    "# Generate list of tuples such that the first element in the tuple is \n",
    "# a players name and the second is their nationality \n",
    "# Ex: [('L. Messi', 'Argentina'), ('Christiano Ronaldo', 'Portugal'), ...]\n",
    "player_nationalities = []\n",
    "\n",
    "for player in player_names:\n",
    "    player_nationalities.append((player, players[player]['nationality']))\n",
    "    \n",
    "player_nationalities += (players[player]['nationality'] for player in player_names)"
   ]
  },
  {
   "cell_type": "code",
   "execution_count": 20,
   "metadata": {
    "ExecuteTime": {
     "end_time": "2020-06-17T23:41:06.171146Z",
     "start_time": "2020-06-17T23:41:06.161465Z"
    }
   },
   "outputs": [
    {
     "name": "stdout",
     "output_type": "stream",
     "text": [
      "[('L. Messi', 'Argentina'), ('Cristiano Ronaldo', 'Portugal'), ('Neymar Jr', 'Brazil'), ('De Gea', 'Spain'), ('K. De Bruyne', 'Belgium')]\n"
     ]
    }
   ],
   "source": [
    "print(player_nationalities)"
   ]
  },
  {
   "cell_type": "markdown",
   "metadata": {},
   "source": [
    "**3) Now, define a function called get_players_on_team that returns a list of the names of all the players who have played on a given team.**\n",
    "\n",
    "**Your function should take two arguments:**\n",
    "\n",
    "**a dictionary of player information\n",
    "a string of the team you are trying to find the players for\n",
    "Be sure that your function has a return statement.**"
   ]
  },
  {
   "cell_type": "code",
   "execution_count": 38,
   "metadata": {
    "ExecuteTime": {
     "end_time": "2020-06-18T20:37:06.389118Z",
     "start_time": "2020-06-18T20:37:06.383638Z"
    }
   },
   "outputs": [],
   "source": [
    "# Define your get_players_on_team function here.\n",
    "def get_players_on_team(player_list, team):\n",
    "    team_list = []\n",
    "    team_list += (player for player in player_list if team in (player_list[player]['teams']))\n",
    "    return team_list"
   ]
  },
  {
   "cell_type": "code",
   "execution_count": 34,
   "metadata": {
    "ExecuteTime": {
     "end_time": "2020-06-18T20:35:59.986105Z",
     "start_time": "2020-06-18T20:35:59.980703Z"
    }
   },
   "outputs": [
    {
     "name": "stdout",
     "output_type": "stream",
     "text": [
      "L. Messi\n",
      "Cristiano Ronaldo\n",
      "Neymar Jr\n",
      "De Gea\n",
      "K. De Bruyne\n"
     ]
    }
   ],
   "source": [
    "for player in players:\n",
    "    print (player)"
   ]
  },
  {
   "cell_type": "code",
   "execution_count": 40,
   "metadata": {
    "ExecuteTime": {
     "end_time": "2020-06-18T20:37:19.498609Z",
     "start_time": "2020-06-18T20:37:19.493050Z"
    }
   },
   "outputs": [
    {
     "name": "stdout",
     "output_type": "stream",
     "text": [
      "['Cristiano Ronaldo', 'De Gea']\n"
     ]
    }
   ],
   "source": [
    "players_on_manchester_united = get_players_on_team(players,'Manchester United')\n",
    "print(players_on_manchester_united)"
   ]
  },
  {
   "cell_type": "code",
   "execution_count": null,
   "metadata": {},
   "outputs": [],
   "source": []
  }
 ],
 "metadata": {
  "kernelspec": {
   "display_name": "learn-env",
   "language": "python",
   "name": "learn-env"
  },
  "language_info": {
   "codemirror_mode": {
    "name": "ipython",
    "version": 3
   },
   "file_extension": ".py",
   "mimetype": "text/x-python",
   "name": "python",
   "nbconvert_exporter": "python",
   "pygments_lexer": "ipython3",
   "version": "3.6.9"
  },
  "toc": {
   "base_numbering": 1,
   "nav_menu": {},
   "number_sections": true,
   "sideBar": true,
   "skip_h1_title": true,
   "title_cell": "Table of Contents",
   "title_sidebar": "Contents",
   "toc_cell": false,
   "toc_position": {},
   "toc_section_display": true,
   "toc_window_display": false
  },
  "varInspector": {
   "cols": {
    "lenName": 16,
    "lenType": 16,
    "lenVar": 40
   },
   "kernels_config": {
    "python": {
     "delete_cmd_postfix": "",
     "delete_cmd_prefix": "del ",
     "library": "var_list.py",
     "varRefreshCmd": "print(var_dic_list())"
    },
    "r": {
     "delete_cmd_postfix": ") ",
     "delete_cmd_prefix": "rm(",
     "library": "var_list.r",
     "varRefreshCmd": "cat(var_dic_list()) "
    }
   },
   "types_to_exclude": [
    "module",
    "function",
    "builtin_function_or_method",
    "instance",
    "_Feature"
   ],
   "window_display": false
  }
 },
 "nbformat": 4,
 "nbformat_minor": 2
}
